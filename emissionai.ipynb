{
 "cells": [
  {
   "cell_type": "markdown",
   "metadata": {},
   "source": [
    "# Emission AI\n",
    "\n",
    "#### Microsoft AI for Earth Project\n",
    "AI Monitoring Coal-fired Power Plant Emission from Space \n",
    "#### Team Members\n",
    "Ziheng Sun, Zack Chester, Daniel Tong\n",
    "#### Date\n",
    "4/30/2020-4/30/2021\n",
    "#### Abstract\n",
    "The goal is to build a reusable machine learning model to estimate the emission of coal-fired power plants by satellite observations. The machine learning model will be trained on the monitoring data of the power plants collected from EPA eGRID, and the remote sensed datasets of TROPOMI on Sentinel 5 Precursor and the meterological observations from MERRA.\n",
    "\n",
    "The model will take remote sensing records as inputs, and output an estimated NOX emission daily volume. \n"
   ]
  },
  {
   "cell_type": "markdown",
   "metadata": {},
   "source": [
    "### Step 1: Read CSV\n",
    "\n",
    "The demo CSV files are located in the folder `data`. The CSV initially contains six columns: Facility ID (EPA Code of PP), Latitude, Longitude, Date, EPA Daily NO2 divided by 1e+05, TROPOMI NO2_column_number_density (Total vertical column of NO2, ratio of the slant column density of NO2 and the total air mass factor). Both [EPA](https://www.epa.gov/egrid), [TROPOMI](http://www.tropomi.eu/) and [MERRA](https://gmao.gsfc.nasa.gov/reanalysis/MERRA/) datasets can be accessed and retrieval free of charge. \n",
    "\n",
    "One preprocessing step is to turn the date column into three separate columns as the machine learning cannot parse date strings as input. It need be turned into numeric values. We transform the date column into dayofweek, dayofmonth, and dayofyear. The original date column is excluded from the training dataset to pass the data type checker. "
   ]
  },
  {
   "cell_type": "code",
   "execution_count": 2,
   "metadata": {},
   "outputs": [
    {
     "name": "stdout",
     "output_type": "stream",
     "text": [
      "['tropomi_epa_kvps_NO2_2018_56.csv', 'tropomi_epa_kvps_NO2_2019_56.csv']\n",
      "==================>\n",
      "         FID      Latitude     Longitude  EPA_NO2/100000  TROPOMI*1000  \\\n",
      "count  167.0  1.670000e+02  1.670000e+02      167.000000    167.000000   \n",
      "mean    56.0  3.148802e+01 -8.791075e+01        0.202637      0.073023   \n",
      "std      0.0  1.425359e-14  8.552157e-14        0.095789      0.017048   \n",
      "min     56.0  3.148802e+01 -8.791075e+01        0.000180      0.038700   \n",
      "25%     56.0  3.148802e+01 -8.791075e+01        0.142335      0.061850   \n",
      "50%     56.0  3.148802e+01 -8.791075e+01        0.202720      0.069900   \n",
      "75%     56.0  3.148802e+01 -8.791075e+01        0.242405      0.081050   \n",
      "max     56.0  3.148802e+01 -8.791075e+01        0.459370      0.127100   \n",
      "\n",
      "       Wind (Monthly)  Temp (Monthly)  Precip (Monthly)  \\\n",
      "count      167.000000      167.000000        167.000000   \n",
      "mean         3.871367      292.725567          0.000052   \n",
      "std          0.367921        7.072844          0.000026   \n",
      "min          3.383229      281.632294          0.000004   \n",
      "25%          3.605924      284.216461          0.000046   \n",
      "50%          3.678730      294.809784          0.000047   \n",
      "75%          4.234426      299.535797          0.000074   \n",
      "max          4.602291      301.860596          0.000098   \n",
      "\n",
      "       Cloud Fraction (Monthly)  \n",
      "count                167.000000  \n",
      "mean                   0.509011  \n",
      "std                    0.048822  \n",
      "min                    0.359887  \n",
      "25%                    0.486571  \n",
      "50%                    0.525576  \n",
      "75%                    0.526714  \n",
      "max                    0.691063  \n",
      "==================>\n",
      "Index(['FID', 'Latitude', 'Longitude', 'EPA_NO2/100000', 'TROPOMI*1000',\n",
      "       'Wind (Monthly)', 'Temp (Monthly)', 'Precip (Monthly)',\n",
      "       'Cloud Fraction (Monthly)', 'dayofyear', 'dayofweek', 'dayofmonth'],\n",
      "      dtype='object')\n",
      "===================>\n",
      "X_train's shape:  (111, 11)\n",
      "y_train's shape:  (111,)\n",
      "x_test's shape:  (56, 11)\n",
      "y_test's shape:  (56,)\n"
     ]
    }
   ],
   "source": [
    "import numpy as np # linear algebra\n",
    "import pandas as pd # data processing, CSV file I/O (e.g. pd.read_csv)\n",
    "import matplotlib.pyplot as plt # Plotting and Visualizing data\n",
    "from sklearn.model_selection import train_test_split\n",
    "import os\n",
    "print(os.listdir(\"data\"))\n",
    "\n",
    "# Describe the data, and get a overview\n",
    "data = pd.read_csv('data/tropomi_epa_kvps_NO2_2019_56.csv',parse_dates=[\"Date\"])\n",
    "\n",
    "print(\"==================>\")\n",
    "print(data.describe())\n",
    "\n",
    "data['dayofyear'] = data['Date'].dt.dayofyear\n",
    "data['dayofweek'] = data['Date'].dt.dayofweek\n",
    "data['dayofmonth'] = data['Date'].dt.day\n",
    "data = data.drop(columns=[\"Date\"])\n",
    "\n",
    "print(\"==================>\")\n",
    "print(data.columns)\n",
    "\n",
    "# Separating dependednt & Indepented Variables \n",
    "x = data.iloc[:, data.columns != 'EPA_NO2/100000'].values\n",
    "y = data.iloc[:, data.columns == 'EPA_NO2/100000']\n",
    "\n",
    "# show the shape of x and y to make sure they have the same length\n",
    "\n",
    "# Train Test Split at ratio 0.33\n",
    "x_train, x_test, y_train, y_test = train_test_split(x, y, test_size = 0.33)\n",
    "\n",
    "y_train = y_train.to_numpy()\n",
    "y_test = y_test.to_numpy()\n",
    "\n",
    "y_train = y_train.ravel()\n",
    "y_test = y_test.ravel()\n",
    "\n",
    "print(\"===================>\")\n",
    "print(\"X_train's shape: \", x_train.shape)\n",
    "print(\"y_train's shape: \", y_train.shape)\n",
    "print(\"x_test's shape: \", x_test.shape)\n",
    "print(\"y_test's shape: \", y_test.shape)\n",
    "\n",
    "# print(y_test)\n",
    "# print(y_train)\n"
   ]
  },
  {
   "cell_type": "markdown",
   "metadata": {},
   "source": [
    "### Step 2: Train Scikit-learn ML model\n",
    "\n",
    "The hyperparameter tuning is a very troublesome task. Use GridSearch to automate the parameter tuning process. \n",
    "\n",
    "In this project, we first test linear regression, random forest, multilayer perceptron, and then create a voting ensemble model based on the two models. \n",
    "\n",
    "Based on Azure ML results, Voting Ensemble has the best performance for all the training datasets. "
   ]
  },
  {
   "cell_type": "code",
   "execution_count": 3,
   "metadata": {},
   "outputs": [
    {
     "name": "stdout",
     "output_type": "stream",
     "text": [
      "False\n",
      "False\n"
     ]
    },
    {
     "name": "stderr",
     "output_type": "stream",
     "text": [
      "/root/anaconda3/envs/tf/lib/python3.7/site-packages/sklearn/model_selection/_search.py:930: RuntimeWarning: overflow encountered in square\n",
      "  array_means[:, np.newaxis]) ** 2,\n"
     ]
    },
    {
     "data": {
      "text/plain": [
       "['eai_er_regressor.joblib']"
      ]
     },
     "execution_count": 3,
     "metadata": {},
     "output_type": "execute_result"
    }
   ],
   "source": [
    "# Model Import and Build\n",
    "from sklearn.linear_model import LinearRegression\n",
    "from sklearn.ensemble import RandomForestRegressor\n",
    "from sklearn.datasets import make_regression\n",
    "from sklearn.svm import SVR\n",
    "from sklearn.ensemble import VotingRegressor\n",
    "from sklearn.model_selection import GridSearchCV\n",
    "import pickle\n",
    "from joblib import dump, load\n",
    "from sklearn.neural_network import MLPRegressor\n",
    "from sklearn.datasets import make_regression\n",
    "\n",
    "\n",
    "linear_regressor = LinearRegression()\n",
    "rf_regressor = RandomForestRegressor()\n",
    "mlp_regressor = MLPRegressor()\n",
    "# svr_rbf = SVR(kernel='rbf', C=100, gamma=0.1, epsilon=.1)\n",
    "# svr_lin = SVR()\n",
    "# svr_poly = SVR(kernel='poly', C=100, gamma='auto', degree=3, epsilon=.1, coef0=1)\n",
    "\n",
    "\n",
    "# Train and tuning the models in one sentence using GridSearch\n",
    "print(np.any(np.isnan(x_train)))\n",
    "print(np.any(np.isnan(y_train)))\n",
    "\n",
    "linear_regressor = GridSearchCV(linear_regressor, {'normalize': (True, False)}, n_jobs=-1, cv=3)\n",
    "linear_regressor.fit(x_train, y_train)\n",
    "\n",
    "rf_regressor = GridSearchCV(rf_regressor, {'max_depth':[12,30], 'n_estimators': [10,100], 'random_state': [0, 5]}, n_jobs=-1, cv=3)\n",
    "rf_regressor.fit(x_train, y_train)\n",
    "\n",
    "parameter_space = {\n",
    "#     'hidden_layer_sizes': [(10,30,10),(20,20,20)],\n",
    "    'hidden_layer_sizes': [(100,50), (100,100)],\n",
    "    'activation': ['tanh', 'relu'],\n",
    "    'solver': ['sgd', 'adam'],\n",
    "    'alpha': [0.0001, 0.05],\n",
    "    'learning_rate': ['constant','adaptive'],\n",
    "}\n",
    "mlp_regressor = GridSearchCV(mlp_regressor, parameter_space, n_jobs=-1, cv=3)\n",
    "mlp_regressor.fit(x_train, y_train)\n",
    "\n",
    "er_voting = VotingRegressor([('lr', rf_regressor), ('rf', mlp_regressor)])\n",
    "er_voting.fit(x_train, y_train)\n",
    "\n",
    "# Persist the trained models into files, so they can be reused in future\n",
    "dump(linear_regressor, 'eai_linear_regressor.joblib') \n",
    "dump(rf_regressor, 'eai_rf_regressor.joblib') \n",
    "dump(mlp_regressor, 'eai_mlp_regressor.joblib')\n",
    "dump(er_voting, 'eai_er_regressor.joblib')\n"
   ]
  },
  {
   "cell_type": "markdown",
   "metadata": {},
   "source": [
    "### Step 3: Test ML model\n",
    "\n",
    "Predict on the test dataset using the trained models"
   ]
  },
  {
   "cell_type": "code",
   "execution_count": 4,
   "metadata": {},
   "outputs": [],
   "source": [
    "# Use the trained models to make predictions\n",
    "linear_pred = linear_regressor.predict(x_test)\n",
    "rf_pred = rf_regressor.predict(x_test)\n",
    "mlp_pred = mlp_regressor.predict(x_test)\n",
    "er_voting_pred = er_voting.predict(x_test)"
   ]
  },
  {
   "cell_type": "markdown",
   "metadata": {},
   "source": [
    "### Step 4: Visualize the Results\n",
    "\n",
    "Visualization of the ML results could facilitate the intercomparison of machine learning models and identify the pros and cons of various models in different groups of data samples.  \n",
    "\n",
    "Blue dots are the true observation of EPA. Black dots are the predicted values of machine learning models. "
   ]
  },
  {
   "cell_type": "code",
   "execution_count": 5,
   "metadata": {},
   "outputs": [
    {
     "data": {
      "image/png": "[encoded data removed]",
      "text/plain": [
       "<Figure size 432x288 with 1 Axes>"
      ]
     },
     "metadata": {
      "needs_background": "light"
     },
     "output_type": "display_data"
    },
    {
     "data": {
      "image/png": "[encoded data removed]",
      "text/plain": [
       "<Figure size 432x288 with 1 Axes>"
      ]
     },
     "metadata": {
      "needs_background": "light"
     },
     "output_type": "display_data"
    },
    {
     "data": {
      "image/png": "[encoded data removed]",
      "text/plain": [
       "<Figure size 432x288 with 1 Axes>"
      ]
     },
     "metadata": {
      "needs_background": "light"
     },
     "output_type": "display_data"
    },
    {
     "data": {
      "image/png": "[encoded data removed]",
      "text/plain": [
       "<Figure size 432x288 with 1 Axes>"
      ]
     },
     "metadata": {
      "needs_background": "light"
     },
     "output_type": "display_data"
    }
   ],
   "source": [
    "def visualizeResults(modelname, x_test, y_test, pred):\n",
    "    # Visualization\n",
    "    ## Check the fitting on training set\n",
    "    plt.scatter(x_test[:,3], y_test)\n",
    "    plt.scatter(x_test[:,3], pred, color='black')\n",
    "#     plt.scatter(y_test, pred, color='black')\n",
    "    plt.title(modelname + ' Fit on testing set')\n",
    "    plt.xlabel('TROMPOMI-Test')\n",
    "    plt.ylabel('EPA-Test/ML-Test')\n",
    "    plt.show()\n",
    "    \n",
    "visualizeResults(\"LinearRegression\", x_test, y_test, linear_pred)\n",
    "visualizeResults(\"Random Forest\", x_test, y_test, rf_pred)\n",
    "visualizeResults(\"Multilayer Perceptron\", x_test, y_test, mlp_pred)\n",
    "visualizeResults(\"Voting Ensemble\", x_test, y_test, er_voting_pred)"
   ]
  },
  {
   "cell_type": "markdown",
   "metadata": {},
   "source": [
    "### Step 5: Calculate quantitative metrics\n",
    "\n",
    "For a regression task, the accuracy metrics are normally mean squared error (MSE), mean absolute error (MAE), and coefficient of determination (R2). "
   ]
  },
  {
   "cell_type": "code",
   "execution_count": 6,
   "metadata": {},
   "outputs": [
    {
     "name": "stdout",
     "output_type": "stream",
     "text": [
      "Model  linear regression  Performance:\n",
      "   MAE:  0.07529677412627878\n",
      "   MSE:  0.009382584581718218\n",
      "   R2:  -0.15213731504143335\n",
      "Model  random forest  Performance:\n",
      "   MAE:  0.06461608571428575\n",
      "   MSE:  0.007327233210863575\n",
      "   R2:  0.10025017896499344\n",
      "Model  multilayer perceptron  Performance:\n",
      "   MAE:  0.06361752553340494\n",
      "   MSE:  0.008142073424725447\n",
      "   R2:  0.00019162814565376607\n",
      "Model  voting ensemble  Performance:\n",
      "   MAE:  0.0666542148657763\n",
      "   MSE:  0.007757800222235172\n",
      "   R2:  0.04737857241495247\n"
     ]
    }
   ],
   "source": [
    "from sklearn.metrics import accuracy_score\n",
    "from sklearn import metrics\n",
    "\n",
    "def showAccuracyMetrics(mlmethod, model, y_test, y_pred):\n",
    "    print(\"Model \", mlmethod, \" Performance:\")\n",
    "#     print(y_test.shape, y_pred.shape)\n",
    "    \n",
    "    mae = metrics.mean_absolute_error(y_test, y_pred)\n",
    "    mse = metrics.mean_squared_error(y_test, y_pred)\n",
    "    r2 = metrics.r2_score(y_test, y_pred)\n",
    "    print(\"   MAE: \", mae)\n",
    "    print(\"   MSE: \", mse)\n",
    "    print(\"   R2: \", r2)\n",
    "    \n",
    "# print(y_test, linear_pred)\n",
    "\n",
    "showAccuracyMetrics(\"linear regression\", linear_regressor, y_test, linear_pred)\n",
    "\n",
    "showAccuracyMetrics(\"random forest\", rf_regressor, y_test, rf_pred)\n",
    "\n",
    "showAccuracyMetrics(\"multilayer perceptron\", mlp_regressor, y_test, mlp_pred)\n",
    "\n",
    "showAccuracyMetrics(\"voting ensemble\", er_voting, y_test, er_voting_pred)\n"
   ]
  },
  {
   "cell_type": "markdown",
   "metadata": {},
   "source": [
    "### Step 6: Feature Importance\n",
    "\n",
    "0 - 'FID', \n",
    "\n",
    "1 - 'Latitude', \n",
    "\n",
    "2 - 'Longitude', \n",
    "\n",
    "3 - 'TROPOMI*1000',\n",
    "\n",
    "4 - 'Wind (Monthly)', \n",
    "\n",
    "5 - 'Temp (Monthly)', \n",
    "\n",
    "6 - 'Precip (Monthly)',\n",
    "\n",
    "7 - 'Cloud Fraction (Monthly)', \n",
    "\n",
    "8 - 'dayofyear', \n",
    "\n",
    "9 - 'dayofweek', \n",
    "\n",
    "10 - 'dayofmonth'"
   ]
  },
  {
   "cell_type": "code",
   "execution_count": 12,
   "metadata": {},
   "outputs": [
    {
     "name": "stdout",
     "output_type": "stream",
     "text": [
      "11\n",
      "[0.         0.         0.         0.27070756 0.07650063 0.03101956\n",
      " 0.03980529 0.11590736 0.21086474 0.10853914 0.14665572]\n",
      "Feature: FID, Score: 0.00000\n",
      "Feature: Latitude, Score: 0.00000\n",
      "Feature: Longitude, Score: 0.00000\n",
      "Feature: TROPOMI*1000, Score: 0.27071\n",
      "Feature: Wind (Monthly), Score: 0.07650\n",
      "Feature: Temp (Monthly), Score: 0.03102\n",
      "Feature: Precip (Monthly), Score: 0.03981\n",
      "Feature: Cloud Fraction (Monthly), Score: 0.11591\n",
      "Feature: dayofyear, Score: 0.21086\n",
      "Feature: dayofweek, Score: 0.10854\n",
      "Feature: dayofmonth, Score: 0.14666\n"
     ]
    },
    {
     "data": {
      "image/png": "[encoded data removed]",
      "text/plain": [
       "<Figure size 1584x576 with 1 Axes>"
      ]
     },
     "metadata": {
      "needs_background": "light"
     },
     "output_type": "display_data"
    },
    {
     "name": "stderr",
     "output_type": "stream",
     "text": [
      "/root/anaconda3/envs/tf/lib/python3.7/site-packages/sklearn/neural_network/_multilayer_perceptron.py:617: ConvergenceWarning: Stochastic Optimizer: Maximum iterations (200) reached and the optimization hasn't converged yet.\n",
      "  % self.max_iter, ConvergenceWarning)\n",
      "/root/anaconda3/envs/tf/lib/python3.7/site-packages/sklearn/neural_network/_multilayer_perceptron.py:617: ConvergenceWarning: Stochastic Optimizer: Maximum iterations (200) reached and the optimization hasn't converged yet.\n",
      "  % self.max_iter, ConvergenceWarning)\n",
      "/root/anaconda3/envs/tf/lib/python3.7/site-packages/sklearn/neural_network/_multilayer_perceptron.py:617: ConvergenceWarning: Stochastic Optimizer: Maximum iterations (200) reached and the optimization hasn't converged yet.\n",
      "  % self.max_iter, ConvergenceWarning)\n",
      "/root/anaconda3/envs/tf/lib/python3.7/site-packages/sklearn/neural_network/_multilayer_perceptron.py:617: ConvergenceWarning: Stochastic Optimizer: Maximum iterations (200) reached and the optimization hasn't converged yet.\n",
      "  % self.max_iter, ConvergenceWarning)\n",
      "/root/anaconda3/envs/tf/lib/python3.7/site-packages/sklearn/neural_network/_multilayer_perceptron.py:617: ConvergenceWarning: Stochastic Optimizer: Maximum iterations (200) reached and the optimization hasn't converged yet.\n",
      "  % self.max_iter, ConvergenceWarning)\n",
      "/root/anaconda3/envs/tf/lib/python3.7/site-packages/sklearn/neural_network/_multilayer_perceptron.py:617: ConvergenceWarning: Stochastic Optimizer: Maximum iterations (200) reached and the optimization hasn't converged yet.\n",
      "  % self.max_iter, ConvergenceWarning)\n",
      "/root/anaconda3/envs/tf/lib/python3.7/site-packages/sklearn/neural_network/_multilayer_perceptron.py:617: ConvergenceWarning: Stochastic Optimizer: Maximum iterations (200) reached and the optimization hasn't converged yet.\n",
      "  % self.max_iter, ConvergenceWarning)\n",
      "/root/anaconda3/envs/tf/lib/python3.7/site-packages/sklearn/neural_network/_multilayer_perceptron.py:617: ConvergenceWarning: Stochastic Optimizer: Maximum iterations (200) reached and the optimization hasn't converged yet.\n",
      "  % self.max_iter, ConvergenceWarning)\n",
      "/root/anaconda3/envs/tf/lib/python3.7/site-packages/sklearn/neural_network/_multilayer_perceptron.py:617: ConvergenceWarning: Stochastic Optimizer: Maximum iterations (200) reached and the optimization hasn't converged yet.\n",
      "  % self.max_iter, ConvergenceWarning)\n",
      "/root/anaconda3/envs/tf/lib/python3.7/site-packages/sklearn/neural_network/_multilayer_perceptron.py:617: ConvergenceWarning: Stochastic Optimizer: Maximum iterations (200) reached and the optimization hasn't converged yet.\n",
      "  % self.max_iter, ConvergenceWarning)\n",
      "/root/anaconda3/envs/tf/lib/python3.7/site-packages/sklearn/neural_network/_multilayer_perceptron.py:617: ConvergenceWarning: Stochastic Optimizer: Maximum iterations (200) reached and the optimization hasn't converged yet.\n",
      "  % self.max_iter, ConvergenceWarning)\n",
      "/root/anaconda3/envs/tf/lib/python3.7/site-packages/sklearn/utils/extmath.py:152: RuntimeWarning: overflow encountered in matmul\n",
      "  ret = a @ b\n",
      "/root/anaconda3/envs/tf/lib/python3.7/site-packages/sklearn/neural_network/_multilayer_perceptron.py:617: ConvergenceWarning: Stochastic Optimizer: Maximum iterations (200) reached and the optimization hasn't converged yet.\n",
      "  % self.max_iter, ConvergenceWarning)\n",
      "/root/anaconda3/envs/tf/lib/python3.7/site-packages/sklearn/neural_network/_multilayer_perceptron.py:617: ConvergenceWarning: Stochastic Optimizer: Maximum iterations (200) reached and the optimization hasn't converged yet.\n",
      "  % self.max_iter, ConvergenceWarning)\n"
     ]
    }
   ],
   "source": [
    "def showImportance(model):\n",
    "    labels = ['FID', 'Latitude', 'Longitude', 'TROPOMI*1000',\\\n",
    "       'Wind (Monthly)', 'Temp (Monthly)', 'Precip (Monthly)',\\\n",
    "       'Cloud Fraction (Monthly)', 'dayofyear', 'dayofweek', 'dayofmonth']\n",
    "    # get importance\n",
    "    importance = model.best_estimator_.feature_importances_\n",
    "    print(len(labels))\n",
    "    print(importance)\n",
    "    # summarize feature importance\n",
    "    for i,v in enumerate(importance):\n",
    "        print('Feature: %s, Score: %.5f' % (labels[i],v))\n",
    "    # plot feature importance\n",
    "    plt.figure(figsize=(22, 8))\n",
    "    plt.bar([labels[x] for x in range(len(importance))], importance)\n",
    "    plt.show()\n",
    "    \n",
    "showImportance(rf_regressor)"
   ]
  },
  {
   "cell_type": "markdown",
   "metadata": {},
   "source": [
    "### Conclusion\n",
    "\n",
    "This notebook shows how to use machine learning models to predict the emission of coal-fired power plants using satellite observations like TROPOMI and meteorology observations from MERRA. \n",
    "\n",
    "The results show that random forest and voting ensemble models are similar in the performance. The random forest model has a slightly better performance in this case. That is also because the ensembled model is from the trained linear regression and the random forest models. The results are basically an average between the two models' results.  \n",
    "\n",
    "Linear regression model outputs basically the values in a narrow range regarless of the variances in the TROPOMI observation and never produce the values greater than 0.3 or less than 0.1. It is not suitable for this prediction. \n",
    "\n",
    "##### Final Remarks\n",
    "\n",
    "Using machine learning to predict ground emission from remote sensed data is possible. More improvements are needed to ensure the accuracy, generality, and stability of the trained models in a long-term operational run. The demonstrated power plant site is in the rural area in Alabama and there is less NO2 emission sources other than the power plant itself. More research is required to make it work for those power plants located in or nearby urban regions, where other emission sources may dominate the NOX in the atmosphere. \n"
   ]
  },
  {
   "cell_type": "markdown",
   "metadata": {},
   "source": [
    "### Citation\n",
    "\n",
    "Please cite this work as: \n",
    "    \n",
    "`Sun, Ziheng, Zack Chester, and Daniel Tong. 2021. \"EmissionAI: Ai Monitoring Coal-Fired Power Plant Emission from Space.\"  https://github.com/ZihengSun/EmissionAI  `"
   ]
  },
  {
   "cell_type": "code",
   "execution_count": null,
   "metadata": {},
   "outputs": [],
   "source": []
  }
 ],
 "metadata": {
  "kernelspec": {
   "display_name": "Python 3 (ipykernel)",
   "language": "python",
   "name": "python3"
  },
  "language_info": {
   "codemirror_mode": {
    "name": "ipython",
    "version": 3
   },
   "file_extension": ".py",
   "mimetype": "text/x-python",
   "name": "python",
   "nbconvert_exporter": "python",
   "pygments_lexer": "ipython3",
   "version": "3.7.11"
  }
 },
 "nbformat": 4,
 "nbformat_minor": 4
}
